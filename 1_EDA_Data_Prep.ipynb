{
  "nbformat": 4,
  "nbformat_minor": 0,
  "metadata": {
    "colab": {
      "provenance": [],
      "authorship_tag": "ABX9TyOqgz+bNsACE+b5WYAret1X"
    },
    "kernelspec": {
      "name": "python3",
      "display_name": "Python 3"
    },
    "language_info": {
      "name": "python"
    }
  },
  "cells": [
    {
      "cell_type": "code",
      "execution_count": null,
      "metadata": {
        "id": "hfP_9inucPln"
      },
      "outputs": [],
      "source": [
        "!ls /content/drive/My\\ Drive/"
      ]
    },
    {
      "cell_type": "code",
      "source": [
        "from google.colab import drive\n",
        "drive.mount('/content/drive')"
      ],
      "metadata": {
        "colab": {
          "base_uri": "https://localhost:8080/"
        },
        "id": "9AqAmFnaeV3s",
        "outputId": "91c3e5d5-9da0-4972-e19b-18bbf02f1b34"
      },
      "execution_count": null,
      "outputs": [
        {
          "output_type": "stream",
          "name": "stdout",
          "text": [
            "Mounted at /content/drive\n"
          ]
        }
      ]
    },
    {
      "cell_type": "code",
      "source": [
        "from google.colab import drive\n",
        "drive.mount('/content/drive')"
      ],
      "metadata": {
        "colab": {
          "base_uri": "https://localhost:8080/"
        },
        "id": "a3JuIsFHeYji",
        "outputId": "5c748cad-751a-4825-9573-ef449f133601"
      },
      "execution_count": null,
      "outputs": [
        {
          "output_type": "stream",
          "name": "stdout",
          "text": [
            "Drive already mounted at /content/drive; to attempt to forcibly remount, call drive.mount(\"/content/drive\", force_remount=True).\n"
          ]
        }
      ]
    },
    {
      "cell_type": "code",
      "source": [
        "import pandas as pd\n",
        "import numpy as np\n",
        "import matplotlib.pyplot as plt\n",
        "from scipy.stats import ks_2samp, mannwhitneyu, shapiro\n",
        "import scipy.stats as stats\n",
        "import seaborn as sns"
      ],
      "metadata": {
        "id": "8wLqhOAUfJqG"
      },
      "execution_count": null,
      "outputs": []
    },
    {
      "cell_type": "markdown",
      "source": [
        "#1.Load and Inspect Data"
      ],
      "metadata": {
        "id": "fjle6AgdgspN"
      }
    },
    {
      "cell_type": "code",
      "source": [
        "file_path = \"/content/drive/My Drive/SAML-D.csv\"\n",
        "df = pd.read_csv(file_path)\n",
        "df.head()"
      ],
      "metadata": {
        "colab": {
          "base_uri": "https://localhost:8080/",
          "height": 303
        },
        "id": "PJTiPf7Sehr_",
        "outputId": "5aa09f51-f639-4a95-b4db-b7be82c9e406"
      },
      "execution_count": null,
      "outputs": [
        {
          "output_type": "execute_result",
          "data": {
            "text/plain": [
              "       Time        Date  Sender_account  Receiver_account    Amount  \\\n",
              "0  10:35:19  2022-10-07      8724731955        2769355426   1459.15   \n",
              "1  10:35:20  2022-10-07      1491989064        8401255335   6019.64   \n",
              "2  10:35:20  2022-10-07       287305149        4404767002  14328.44   \n",
              "3  10:35:21  2022-10-07      5376652437        9600420220  11895.00   \n",
              "4  10:35:21  2022-10-07      9614186178        3803336972    115.25   \n",
              "\n",
              "  Payment_currency Received_currency Sender_bank_location  \\\n",
              "0        UK pounds         UK pounds                   UK   \n",
              "1        UK pounds            Dirham                   UK   \n",
              "2        UK pounds         UK pounds                   UK   \n",
              "3        UK pounds         UK pounds                   UK   \n",
              "4        UK pounds         UK pounds                   UK   \n",
              "\n",
              "  Receiver_bank_location  Payment_type  Is_laundering       Laundering_type  \n",
              "0                     UK  Cash Deposit              0  Normal_Cash_Deposits  \n",
              "1                    UAE  Cross-border              0        Normal_Fan_Out  \n",
              "2                     UK        Cheque              0  Normal_Small_Fan_Out  \n",
              "3                     UK           ACH              0         Normal_Fan_In  \n",
              "4                     UK  Cash Deposit              0  Normal_Cash_Deposits  "
            ],
            "text/html": [
              "\n",
              "  <div id=\"df-63324388-cc19-48b6-ac68-e1f7dfcb542c\" class=\"colab-df-container\">\n",
              "    <div>\n",
              "<style scoped>\n",
              "    .dataframe tbody tr th:only-of-type {\n",
              "        vertical-align: middle;\n",
              "    }\n",
              "\n",
              "    .dataframe tbody tr th {\n",
              "        vertical-align: top;\n",
              "    }\n",
              "\n",
              "    .dataframe thead th {\n",
              "        text-align: right;\n",
              "    }\n",
              "</style>\n",
              "<table border=\"1\" class=\"dataframe\">\n",
              "  <thead>\n",
              "    <tr style=\"text-align: right;\">\n",
              "      <th></th>\n",
              "      <th>Time</th>\n",
              "      <th>Date</th>\n",
              "      <th>Sender_account</th>\n",
              "      <th>Receiver_account</th>\n",
              "      <th>Amount</th>\n",
              "      <th>Payment_currency</th>\n",
              "      <th>Received_currency</th>\n",
              "      <th>Sender_bank_location</th>\n",
              "      <th>Receiver_bank_location</th>\n",
              "      <th>Payment_type</th>\n",
              "      <th>Is_laundering</th>\n",
              "      <th>Laundering_type</th>\n",
              "    </tr>\n",
              "  </thead>\n",
              "  <tbody>\n",
              "    <tr>\n",
              "      <th>0</th>\n",
              "      <td>10:35:19</td>\n",
              "      <td>2022-10-07</td>\n",
              "      <td>8724731955</td>\n",
              "      <td>2769355426</td>\n",
              "      <td>1459.15</td>\n",
              "      <td>UK pounds</td>\n",
              "      <td>UK pounds</td>\n",
              "      <td>UK</td>\n",
              "      <td>UK</td>\n",
              "      <td>Cash Deposit</td>\n",
              "      <td>0</td>\n",
              "      <td>Normal_Cash_Deposits</td>\n",
              "    </tr>\n",
              "    <tr>\n",
              "      <th>1</th>\n",
              "      <td>10:35:20</td>\n",
              "      <td>2022-10-07</td>\n",
              "      <td>1491989064</td>\n",
              "      <td>8401255335</td>\n",
              "      <td>6019.64</td>\n",
              "      <td>UK pounds</td>\n",
              "      <td>Dirham</td>\n",
              "      <td>UK</td>\n",
              "      <td>UAE</td>\n",
              "      <td>Cross-border</td>\n",
              "      <td>0</td>\n",
              "      <td>Normal_Fan_Out</td>\n",
              "    </tr>\n",
              "    <tr>\n",
              "      <th>2</th>\n",
              "      <td>10:35:20</td>\n",
              "      <td>2022-10-07</td>\n",
              "      <td>287305149</td>\n",
              "      <td>4404767002</td>\n",
              "      <td>14328.44</td>\n",
              "      <td>UK pounds</td>\n",
              "      <td>UK pounds</td>\n",
              "      <td>UK</td>\n",
              "      <td>UK</td>\n",
              "      <td>Cheque</td>\n",
              "      <td>0</td>\n",
              "      <td>Normal_Small_Fan_Out</td>\n",
              "    </tr>\n",
              "    <tr>\n",
              "      <th>3</th>\n",
              "      <td>10:35:21</td>\n",
              "      <td>2022-10-07</td>\n",
              "      <td>5376652437</td>\n",
              "      <td>9600420220</td>\n",
              "      <td>11895.00</td>\n",
              "      <td>UK pounds</td>\n",
              "      <td>UK pounds</td>\n",
              "      <td>UK</td>\n",
              "      <td>UK</td>\n",
              "      <td>ACH</td>\n",
              "      <td>0</td>\n",
              "      <td>Normal_Fan_In</td>\n",
              "    </tr>\n",
              "    <tr>\n",
              "      <th>4</th>\n",
              "      <td>10:35:21</td>\n",
              "      <td>2022-10-07</td>\n",
              "      <td>9614186178</td>\n",
              "      <td>3803336972</td>\n",
              "      <td>115.25</td>\n",
              "      <td>UK pounds</td>\n",
              "      <td>UK pounds</td>\n",
              "      <td>UK</td>\n",
              "      <td>UK</td>\n",
              "      <td>Cash Deposit</td>\n",
              "      <td>0</td>\n",
              "      <td>Normal_Cash_Deposits</td>\n",
              "    </tr>\n",
              "  </tbody>\n",
              "</table>\n",
              "</div>\n",
              "    <div class=\"colab-df-buttons\">\n",
              "\n",
              "  <div class=\"colab-df-container\">\n",
              "    <button class=\"colab-df-convert\" onclick=\"convertToInteractive('df-63324388-cc19-48b6-ac68-e1f7dfcb542c')\"\n",
              "            title=\"Convert this dataframe to an interactive table.\"\n",
              "            style=\"display:none;\">\n",
              "\n",
              "  <svg xmlns=\"http://www.w3.org/2000/svg\" height=\"24px\" viewBox=\"0 -960 960 960\">\n",
              "    <path d=\"M120-120v-720h720v720H120Zm60-500h600v-160H180v160Zm220 220h160v-160H400v160Zm0 220h160v-160H400v160ZM180-400h160v-160H180v160Zm440 0h160v-160H620v160ZM180-180h160v-160H180v160Zm440 0h160v-160H620v160Z\"/>\n",
              "  </svg>\n",
              "    </button>\n",
              "\n",
              "  <style>\n",
              "    .colab-df-container {\n",
              "      display:flex;\n",
              "      gap: 12px;\n",
              "    }\n",
              "\n",
              "    .colab-df-convert {\n",
              "      background-color: #E8F0FE;\n",
              "      border: none;\n",
              "      border-radius: 50%;\n",
              "      cursor: pointer;\n",
              "      display: none;\n",
              "      fill: #1967D2;\n",
              "      height: 32px;\n",
              "      padding: 0 0 0 0;\n",
              "      width: 32px;\n",
              "    }\n",
              "\n",
              "    .colab-df-convert:hover {\n",
              "      background-color: #E2EBFA;\n",
              "      box-shadow: 0px 1px 2px rgba(60, 64, 67, 0.3), 0px 1px 3px 1px rgba(60, 64, 67, 0.15);\n",
              "      fill: #174EA6;\n",
              "    }\n",
              "\n",
              "    .colab-df-buttons div {\n",
              "      margin-bottom: 4px;\n",
              "    }\n",
              "\n",
              "    [theme=dark] .colab-df-convert {\n",
              "      background-color: #3B4455;\n",
              "      fill: #D2E3FC;\n",
              "    }\n",
              "\n",
              "    [theme=dark] .colab-df-convert:hover {\n",
              "      background-color: #434B5C;\n",
              "      box-shadow: 0px 1px 3px 1px rgba(0, 0, 0, 0.15);\n",
              "      filter: drop-shadow(0px 1px 2px rgba(0, 0, 0, 0.3));\n",
              "      fill: #FFFFFF;\n",
              "    }\n",
              "  </style>\n",
              "\n",
              "    <script>\n",
              "      const buttonEl =\n",
              "        document.querySelector('#df-63324388-cc19-48b6-ac68-e1f7dfcb542c button.colab-df-convert');\n",
              "      buttonEl.style.display =\n",
              "        google.colab.kernel.accessAllowed ? 'block' : 'none';\n",
              "\n",
              "      async function convertToInteractive(key) {\n",
              "        const element = document.querySelector('#df-63324388-cc19-48b6-ac68-e1f7dfcb542c');\n",
              "        const dataTable =\n",
              "          await google.colab.kernel.invokeFunction('convertToInteractive',\n",
              "                                                    [key], {});\n",
              "        if (!dataTable) return;\n",
              "\n",
              "        const docLinkHtml = 'Like what you see? Visit the ' +\n",
              "          '<a target=\"_blank\" href=https://colab.research.google.com/notebooks/data_table.ipynb>data table notebook</a>'\n",
              "          + ' to learn more about interactive tables.';\n",
              "        element.innerHTML = '';\n",
              "        dataTable['output_type'] = 'display_data';\n",
              "        await google.colab.output.renderOutput(dataTable, element);\n",
              "        const docLink = document.createElement('div');\n",
              "        docLink.innerHTML = docLinkHtml;\n",
              "        element.appendChild(docLink);\n",
              "      }\n",
              "    </script>\n",
              "  </div>\n",
              "\n",
              "\n",
              "<div id=\"df-0940f5b8-e76f-407e-b94d-ae8846b23fcb\">\n",
              "  <button class=\"colab-df-quickchart\" onclick=\"quickchart('df-0940f5b8-e76f-407e-b94d-ae8846b23fcb')\"\n",
              "            title=\"Suggest charts\"\n",
              "            style=\"display:none;\">\n",
              "\n",
              "<svg xmlns=\"http://www.w3.org/2000/svg\" height=\"24px\"viewBox=\"0 0 24 24\"\n",
              "     width=\"24px\">\n",
              "    <g>\n",
              "        <path d=\"M19 3H5c-1.1 0-2 .9-2 2v14c0 1.1.9 2 2 2h14c1.1 0 2-.9 2-2V5c0-1.1-.9-2-2-2zM9 17H7v-7h2v7zm4 0h-2V7h2v10zm4 0h-2v-4h2v4z\"/>\n",
              "    </g>\n",
              "</svg>\n",
              "  </button>\n",
              "\n",
              "<style>\n",
              "  .colab-df-quickchart {\n",
              "      --bg-color: #E8F0FE;\n",
              "      --fill-color: #1967D2;\n",
              "      --hover-bg-color: #E2EBFA;\n",
              "      --hover-fill-color: #174EA6;\n",
              "      --disabled-fill-color: #AAA;\n",
              "      --disabled-bg-color: #DDD;\n",
              "  }\n",
              "\n",
              "  [theme=dark] .colab-df-quickchart {\n",
              "      --bg-color: #3B4455;\n",
              "      --fill-color: #D2E3FC;\n",
              "      --hover-bg-color: #434B5C;\n",
              "      --hover-fill-color: #FFFFFF;\n",
              "      --disabled-bg-color: #3B4455;\n",
              "      --disabled-fill-color: #666;\n",
              "  }\n",
              "\n",
              "  .colab-df-quickchart {\n",
              "    background-color: var(--bg-color);\n",
              "    border: none;\n",
              "    border-radius: 50%;\n",
              "    cursor: pointer;\n",
              "    display: none;\n",
              "    fill: var(--fill-color);\n",
              "    height: 32px;\n",
              "    padding: 0;\n",
              "    width: 32px;\n",
              "  }\n",
              "\n",
              "  .colab-df-quickchart:hover {\n",
              "    background-color: var(--hover-bg-color);\n",
              "    box-shadow: 0 1px 2px rgba(60, 64, 67, 0.3), 0 1px 3px 1px rgba(60, 64, 67, 0.15);\n",
              "    fill: var(--button-hover-fill-color);\n",
              "  }\n",
              "\n",
              "  .colab-df-quickchart-complete:disabled,\n",
              "  .colab-df-quickchart-complete:disabled:hover {\n",
              "    background-color: var(--disabled-bg-color);\n",
              "    fill: var(--disabled-fill-color);\n",
              "    box-shadow: none;\n",
              "  }\n",
              "\n",
              "  .colab-df-spinner {\n",
              "    border: 2px solid var(--fill-color);\n",
              "    border-color: transparent;\n",
              "    border-bottom-color: var(--fill-color);\n",
              "    animation:\n",
              "      spin 1s steps(1) infinite;\n",
              "  }\n",
              "\n",
              "  @keyframes spin {\n",
              "    0% {\n",
              "      border-color: transparent;\n",
              "      border-bottom-color: var(--fill-color);\n",
              "      border-left-color: var(--fill-color);\n",
              "    }\n",
              "    20% {\n",
              "      border-color: transparent;\n",
              "      border-left-color: var(--fill-color);\n",
              "      border-top-color: var(--fill-color);\n",
              "    }\n",
              "    30% {\n",
              "      border-color: transparent;\n",
              "      border-left-color: var(--fill-color);\n",
              "      border-top-color: var(--fill-color);\n",
              "      border-right-color: var(--fill-color);\n",
              "    }\n",
              "    40% {\n",
              "      border-color: transparent;\n",
              "      border-right-color: var(--fill-color);\n",
              "      border-top-color: var(--fill-color);\n",
              "    }\n",
              "    60% {\n",
              "      border-color: transparent;\n",
              "      border-right-color: var(--fill-color);\n",
              "    }\n",
              "    80% {\n",
              "      border-color: transparent;\n",
              "      border-right-color: var(--fill-color);\n",
              "      border-bottom-color: var(--fill-color);\n",
              "    }\n",
              "    90% {\n",
              "      border-color: transparent;\n",
              "      border-bottom-color: var(--fill-color);\n",
              "    }\n",
              "  }\n",
              "</style>\n",
              "\n",
              "  <script>\n",
              "    async function quickchart(key) {\n",
              "      const quickchartButtonEl =\n",
              "        document.querySelector('#' + key + ' button');\n",
              "      quickchartButtonEl.disabled = true;  // To prevent multiple clicks.\n",
              "      quickchartButtonEl.classList.add('colab-df-spinner');\n",
              "      try {\n",
              "        const charts = await google.colab.kernel.invokeFunction(\n",
              "            'suggestCharts', [key], {});\n",
              "      } catch (error) {\n",
              "        console.error('Error during call to suggestCharts:', error);\n",
              "      }\n",
              "      quickchartButtonEl.classList.remove('colab-df-spinner');\n",
              "      quickchartButtonEl.classList.add('colab-df-quickchart-complete');\n",
              "    }\n",
              "    (() => {\n",
              "      let quickchartButtonEl =\n",
              "        document.querySelector('#df-0940f5b8-e76f-407e-b94d-ae8846b23fcb button');\n",
              "      quickchartButtonEl.style.display =\n",
              "        google.colab.kernel.accessAllowed ? 'block' : 'none';\n",
              "    })();\n",
              "  </script>\n",
              "</div>\n",
              "\n",
              "    </div>\n",
              "  </div>\n"
            ],
            "application/vnd.google.colaboratory.intrinsic+json": {
              "type": "dataframe",
              "variable_name": "df"
            }
          },
          "metadata": {},
          "execution_count": 5
        }
      ]
    },
    {
      "cell_type": "markdown",
      "source": [
        "# 2.Data Cleaning"
      ],
      "metadata": {
        "id": "XJTp6SD8faVS"
      }
    },
    {
      "cell_type": "markdown",
      "source": [
        "## 2.1 Dealing with Missing Values"
      ],
      "metadata": {
        "id": "SuVfvzg1f0iW"
      }
    },
    {
      "cell_type": "code",
      "source": [
        "df.isnull().sum().sort_values(ascending=False)\n"
      ],
      "metadata": {
        "colab": {
          "base_uri": "https://localhost:8080/",
          "height": 447
        },
        "id": "lKyOtlORgy5S",
        "outputId": "4464eacd-cfc1-4160-9cb1-9369f6ac2b6a"
      },
      "execution_count": null,
      "outputs": [
        {
          "output_type": "execute_result",
          "data": {
            "text/plain": [
              "Time                      0\n",
              "Date                      0\n",
              "Sender_account            0\n",
              "Receiver_account          0\n",
              "Amount                    0\n",
              "Payment_currency          0\n",
              "Received_currency         0\n",
              "Sender_bank_location      0\n",
              "Receiver_bank_location    0\n",
              "Payment_type              0\n",
              "Is_laundering             0\n",
              "Laundering_type           0\n",
              "dtype: int64"
            ],
            "text/html": [
              "<div>\n",
              "<style scoped>\n",
              "    .dataframe tbody tr th:only-of-type {\n",
              "        vertical-align: middle;\n",
              "    }\n",
              "\n",
              "    .dataframe tbody tr th {\n",
              "        vertical-align: top;\n",
              "    }\n",
              "\n",
              "    .dataframe thead th {\n",
              "        text-align: right;\n",
              "    }\n",
              "</style>\n",
              "<table border=\"1\" class=\"dataframe\">\n",
              "  <thead>\n",
              "    <tr style=\"text-align: right;\">\n",
              "      <th></th>\n",
              "      <th>0</th>\n",
              "    </tr>\n",
              "  </thead>\n",
              "  <tbody>\n",
              "    <tr>\n",
              "      <th>Time</th>\n",
              "      <td>0</td>\n",
              "    </tr>\n",
              "    <tr>\n",
              "      <th>Date</th>\n",
              "      <td>0</td>\n",
              "    </tr>\n",
              "    <tr>\n",
              "      <th>Sender_account</th>\n",
              "      <td>0</td>\n",
              "    </tr>\n",
              "    <tr>\n",
              "      <th>Receiver_account</th>\n",
              "      <td>0</td>\n",
              "    </tr>\n",
              "    <tr>\n",
              "      <th>Amount</th>\n",
              "      <td>0</td>\n",
              "    </tr>\n",
              "    <tr>\n",
              "      <th>Payment_currency</th>\n",
              "      <td>0</td>\n",
              "    </tr>\n",
              "    <tr>\n",
              "      <th>Received_currency</th>\n",
              "      <td>0</td>\n",
              "    </tr>\n",
              "    <tr>\n",
              "      <th>Sender_bank_location</th>\n",
              "      <td>0</td>\n",
              "    </tr>\n",
              "    <tr>\n",
              "      <th>Receiver_bank_location</th>\n",
              "      <td>0</td>\n",
              "    </tr>\n",
              "    <tr>\n",
              "      <th>Payment_type</th>\n",
              "      <td>0</td>\n",
              "    </tr>\n",
              "    <tr>\n",
              "      <th>Is_laundering</th>\n",
              "      <td>0</td>\n",
              "    </tr>\n",
              "    <tr>\n",
              "      <th>Laundering_type</th>\n",
              "      <td>0</td>\n",
              "    </tr>\n",
              "  </tbody>\n",
              "</table>\n",
              "</div><br><label><b>dtype:</b> int64</label>"
            ]
          },
          "metadata": {},
          "execution_count": 6
        }
      ]
    },
    {
      "cell_type": "markdown",
      "source": [
        "## 2.2 Removing Duplicates"
      ],
      "metadata": {
        "id": "210FlpUyf9cG"
      }
    },
    {
      "cell_type": "code",
      "source": [
        "initial_count = df.shape[0]\n",
        "df.drop_duplicates(inplace=True)\n",
        "print(\"Dropped duplicates: \", initial_count - df.shape[0])\n"
      ],
      "metadata": {
        "id": "GGxN4C1-g-j4",
        "outputId": "cde5b52c-d333-46b0-a3de-3defe97bc740",
        "colab": {
          "base_uri": "https://localhost:8080/"
        }
      },
      "execution_count": null,
      "outputs": [
        {
          "output_type": "stream",
          "name": "stdout",
          "text": [
            "Dropped duplicates:  0\n"
          ]
        }
      ]
    },
    {
      "cell_type": "markdown",
      "source": [
        "## 2.3 Data Type Corrections"
      ],
      "metadata": {
        "id": "hqwqbgn2gC18"
      }
    },
    {
      "cell_type": "code",
      "source": [
        "df.info()"
      ],
      "metadata": {
        "id": "LYtzfcn9Ba4c",
        "outputId": "ed4b00c4-9527-49b6-a103-68b5f6888b6f",
        "colab": {
          "base_uri": "https://localhost:8080/"
        }
      },
      "execution_count": null,
      "outputs": [
        {
          "output_type": "stream",
          "name": "stdout",
          "text": [
            "<class 'pandas.core.frame.DataFrame'>\n",
            "RangeIndex: 9504852 entries, 0 to 9504851\n",
            "Data columns (total 12 columns):\n",
            " #   Column                  Dtype  \n",
            "---  ------                  -----  \n",
            " 0   Time                    object \n",
            " 1   Date                    object \n",
            " 2   Sender_account          int64  \n",
            " 3   Receiver_account        int64  \n",
            " 4   Amount                  float64\n",
            " 5   Payment_currency        object \n",
            " 6   Received_currency       object \n",
            " 7   Sender_bank_location    object \n",
            " 8   Receiver_bank_location  object \n",
            " 9   Payment_type            object \n",
            " 10  Is_laundering           int64  \n",
            " 11  Laundering_type         object \n",
            "dtypes: float64(1), int64(3), object(8)\n",
            "memory usage: 870.2+ MB\n"
          ]
        }
      ]
    },
    {
      "cell_type": "markdown",
      "source": [
        "## 2.4 Outliers and Data Range Checks"
      ],
      "metadata": {
        "id": "Mjf5FeyZgGTj"
      }
    },
    {
      "cell_type": "markdown",
      "source": [
        "# 3. Exploratory Data Analysis (EDA)\n",
        "\n",
        "## 3.1 Univariate Analysis\n",
        "**Goal:** Understand individual feature distributions."
      ],
      "metadata": {
        "id": "zKrOSBs-gM7C"
      }
    },
    {
      "cell_type": "markdown",
      "source": [],
      "metadata": {
        "id": "QZxY1tBQgawJ"
      }
    },
    {
      "cell_type": "markdown",
      "source": [],
      "metadata": {
        "id": "x0q5UgzrgV0A"
      }
    }
  ]
}